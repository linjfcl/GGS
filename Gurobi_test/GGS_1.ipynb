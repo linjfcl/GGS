{
 "cells": [
  {
   "cell_type": "code",
   "execution_count": 1,
   "metadata": {},
   "outputs": [],
   "source": [
    "# nHP = 3, nSN = 12"
   ]
  },
  {
   "cell_type": "code",
   "execution_count": 2,
   "metadata": {},
   "outputs": [],
   "source": [
    "import gurobipy as gp\n",
    "from gurobipy import GRB\n",
    "import numpy as np"
   ]
  },
  {
   "cell_type": "code",
   "execution_count": 3,
   "metadata": {},
   "outputs": [],
   "source": [
    "model = gp.Model(\"DroneDataCollection\")"
   ]
  },
  {
   "cell_type": "code",
   "execution_count": 4,
   "metadata": {},
   "outputs": [],
   "source": [
    "\n",
    "nHP = 3    # max number of hover points\n",
    "nSN = 12   # numver of sensing nodes\n",
    "M   = 5    # \n",
    "\n",
    "I = range(nHP)   # hover points decision variable\n",
    "J = range(nSN)   # sensing nodes decision variable\n",
    "\n",
    "snp = np.random.rand(nSN, 2) * 1000"
   ]
  },
  {
   "cell_type": "code",
   "execution_count": 5,
   "metadata": {},
   "outputs": [],
   "source": [
    "y  = model.addVars(I, J, vtype=GRB.BINARY, name=\"y\")                    \n",
    "h  = model.addVars(nHP, 2, vtype=GRB.CONTINUOUS, name=\"h\")              \n",
    "d1 = model.addVars(nHP, nSN, vtype=GRB.CONTINUOUS, name=\"Distance\")     \n",
    "bh = model.addVars(nHP, vtype=GRB.BINARY, name=\"bh\")                    \n",
    "\n",
    "d2 = model.addVars(nHP, nHP, vtype=GRB.CONTINUOUS, name=\"Distance\")     \n",
    "tx = model.addVars(nHP, nHP, vtype=GRB.BINARY, name=\"tx\")\n",
    "u  = model.addVars(nHP, vtype=GRB.CONTINUOUS)"
   ]
  },
  {
   "cell_type": "code",
   "execution_count": 6,
   "metadata": {},
   "outputs": [],
   "source": [
    "# distance between hover point and sensing node\n",
    "for i in range(nHP):\n",
    "    for j in range(nSN):\n",
    "        model.addConstr(d1[i, j] >=   h[i, 0] - snp[j, 0] - 1000 * (1-y[i,j]))\n",
    "        model.addConstr(d1[i, j] >= -(h[i, 0] - snp[j, 0])- 1000 * (1-y[i,j]))\n",
    "        model.addConstr(d1[i, j] >=   h[i, 1] - snp[j, 1] - 1000 * (1-y[i,j]))\n",
    "        model.addConstr(d1[i, j] >= -(h[i, 1] - snp[j, 1])- 1000 * (1-y[i,j]))\n",
    "\n",
    "# distance between hover points\n",
    "for i in range(nHP):\n",
    "    for j in range(nHP):\n",
    "        if (i == j):\n",
    "            model.addConstr(d2[i, j] >= 1000*1000)\n",
    "        else:\n",
    "            model.addConstr(d2[i, j] >=   h[i, 0] - h[j, 0] - 2000 * (2-bh[i]-bh[j]))\n",
    "            model.addConstr(d2[i, j] >= -(h[i, 0] - h[j, 0])- 2000 * (2-bh[i]-bh[j]))\n",
    "            model.addConstr(d2[i, j] >=   h[i, 1] - h[j, 1] - 2000 * (2-bh[i]-bh[j]))\n",
    "            model.addConstr(d2[i, j] >= -(h[i, 1] - h[j, 1])- 2000 * (2-bh[i]-bh[j]))\n"
   ]
  },
  {
   "cell_type": "code",
   "execution_count": 7,
   "metadata": {},
   "outputs": [],
   "source": [
    "model.addConstrs(h[i, 0] >=    0 for i in I)\n",
    "model.addConstrs(h[i, 0] <= 1000 for i in I)\n",
    "model.addConstrs(h[i, 1] >=    0 for i in I)\n",
    "model.addConstrs(h[i, 1] <= 1000 for i in I)\n",
    "pass"
   ]
  },
  {
   "cell_type": "code",
   "execution_count": 8,
   "metadata": {},
   "outputs": [],
   "source": [
    "model.addConstrs((gp.quicksum(y[i, j] for i in I) == 1 for j in J), \"SensingNodeCoverage\")\n",
    "model.addConstrs((gp.quicksum(y[i, j] for j in J) <= M * bh[i] for i in I), \"MaxCoveredSensorsPerHoveringPoint\")\n",
    "pass"
   ]
  },
  {
   "cell_type": "code",
   "execution_count": 9,
   "metadata": {},
   "outputs": [],
   "source": [
    "# TSP\n",
    "model.addConstrs((gp.quicksum(tx[i, j] for i in I) == bh[j] for j in I), \"TSPConstr1\")\n",
    "model.addConstrs((gp.quicksum(tx[i, j] for j in I) == bh[i] for i in I), \"TSPConstr2\")\n",
    "tHP = gp.quicksum(bh[i] for i in I)\n",
    "for i in range(1, nHP):  \n",
    "    for j in range(1, nHP): \n",
    "        if(i!=j):\n",
    "            model.addConstr((u[i]-u[j]+tHP*tx[i,j])<=tHP-1)\n",
    "pass"
   ]
  },
  {
   "cell_type": "code",
   "execution_count": 10,
   "metadata": {},
   "outputs": [],
   "source": [
    "x1 = gp.quicksum( y[i, j]*d1[i, j] for i in I for j in J)\n",
    "x2 = gp.quicksum(tx[i, j]*d2[i, j] for i in I for j in I)\n",
    "model.setObjective(x1 + x2, GRB.MINIMIZE)"
   ]
  },
  {
   "cell_type": "code",
   "execution_count": 11,
   "metadata": {},
   "outputs": [],
   "source": [
    "data = {'objbnds': [], 'objbsts': [], 'objbstsols': [], 'times': [], 'times_mipsol': []}\n",
    "def collect_data(model, where):\n",
    "    if where == gp.GRB.Callback.MIPNODE:\n",
    "        objbnd = model.cbGet(gp.GRB.Callback.MIPNODE_OBJBND)\n",
    "        objbst = model.cbGet(gp.GRB.Callback.MIPNODE_OBJBST)\n",
    "        \n",
    "        data['objbnds'].append(objbnd)\n",
    "        data['objbsts'].append(objbst)\n",
    "        data['times'].append(model.cbGet(gp.GRB.Callback.RUNTIME))\n",
    "    \n",
    "    elif where == gp.GRB.Callback.MIPSOL:\n",
    "        objbstsol = model.cbGet(gp.GRB.Callback.MIPSOL_OBJ)\n",
    "        data['objbstsols'].append(objbstsol)\n",
    "        data['times_mipsol'].append(model.cbGet(gp.GRB.Callback.RUNTIME))"
   ]
  },
  {
   "cell_type": "code",
   "execution_count": 12,
   "metadata": {},
   "outputs": [
    {
     "name": "stdout",
     "output_type": "stream",
     "text": [
      "Set parameter TimeLimit to value 3600\n",
      "Gurobi Optimizer version 11.0.3 build v11.0.3rc0 (win64 - Windows 10.0 (19045.2))\n",
      "\n",
      "CPU model: AMD Ryzen 5 5600 6-Core Processor, instruction set [SSE2|AVX|AVX2]\n",
      "Thread count: 6 physical cores, 12 logical processors, using up to 12 threads\n",
      "\n",
      "Optimize a model with 204 rows, 102 columns and 666 nonzeros\n",
      "Model fingerprint: 0x2f1bea1f\n",
      "Model has 45 quadratic objective terms\n",
      "Model has 2 quadratic constraints\n",
      "Variable types: 54 continuous, 48 integer (48 binary)\n",
      "Coefficient statistics:\n",
      "  Matrix range     [1e+00, 2e+03]\n",
      "  QMatrix range    [1e+00, 1e+00]\n",
      "  QLMatrix range   [1e+00, 1e+00]\n",
      "  Objective range  [0e+00, 0e+00]\n",
      "  QObjective range [2e+00, 2e+00]\n",
      "  Bounds range     [1e+00, 1e+00]\n",
      "  RHS range        [1e+00, 1e+06]\n",
      "  QRHS range       [1e+00, 1e+00]\n",
      "Presolve removed 11 rows and 5 columns\n",
      "Presolve time: 0.00s\n",
      "Presolved: 277 rows, 223 columns, 875 nonzeros\n",
      "Presolved model has 84 SOS constraint(s)\n",
      "Variable types: 132 continuous, 91 integer (90 binary)\n",
      "\n",
      "Root relaxation: objective 0.000000e+00, 152 iterations, 0.00 seconds (0.00 work units)\n",
      "\n",
      "    Nodes    |    Current Node    |     Objective Bounds      |     Work\n",
      " Expl Unexpl |  Obj  Depth IntInf | Incumbent    BestBd   Gap | It/Node Time\n",
      "\n",
      "     0     0    0.00000    0   14          -    0.00000      -     -    0s\n",
      "H    0     0                    3024.5152214    0.00000   100%     -    0s\n",
      "     0     0    0.00000    0   14 3024.51522    0.00000   100%     -    0s\n",
      "     0     2    0.00000    0   14 3024.51522    0.00000   100%     -    0s\n",
      "H    4     8                    2833.3847058    0.00000   100%  22.3    0s\n",
      "H  193   175                    2806.0531357    0.00000   100%  11.8    0s\n",
      "*  205   175              21    2731.3957571    0.00000   100%  11.7    0s\n",
      "*  206   175              20    2669.7260658    0.00000   100%  11.7    0s\n",
      "*  352   263              19    2613.2334045    0.00000   100%  10.6    0s\n",
      "*  354   263              20    2553.1301735    0.00000   100%  10.6    0s\n",
      "H  459   303                    2550.5761498    0.00000   100%  10.3    0s\n",
      "H 1097   554                    2546.9655800    0.00000   100%   9.0    0s\n",
      "* 1883   934              20    2478.5955502  180.99765  92.7%   8.5    0s\n",
      " 189169  9270 2203.83084   31    5 2478.59555 2064.21157  16.7%   7.1    5s\n",
      "\n",
      "Explored 220428 nodes (1459313 simplex iterations) in 5.59 seconds (3.09 work units)\n",
      "Thread count was 12 (of 12 available processors)\n",
      "\n",
      "Solution count 10: 2478.6 2478.6 2546.97 ... 2833.38\n",
      "\n",
      "Optimal solution found (tolerance 1.00e-04)\n",
      "Best objective 2.478595550247e+03, best bound 2.478595550152e+03, gap 0.0000%\n",
      "\n",
      "User-callback calls 442180, time in user-callback 0.66 sec\n"
     ]
    }
   ],
   "source": [
    "model.params.TimeLimit = 3600\n",
    "model.optimize(collect_data)"
   ]
  },
  {
   "cell_type": "code",
   "execution_count": 13,
   "metadata": {},
   "outputs": [
    {
     "name": "stdout",
     "output_type": "stream",
     "text": [
      "Number of variables: 102\n",
      "Number of constraints: 204\n",
      "Is optimal: True\n"
     ]
    }
   ],
   "source": [
    "num_vars = model.NumVars\n",
    "print(f\"Number of variables: {num_vars}\")\n",
    "\n",
    "num_constrs = model.NumConstrs\n",
    "print(f\"Number of constraints: {num_constrs}\")\n",
    "\n",
    "m_optimal = model.status == GRB.OPTIMAL\n",
    "print(f\"Is optimal: {m_optimal}\")"
   ]
  },
  {
   "cell_type": "code",
   "execution_count": 14,
   "metadata": {},
   "outputs": [],
   "source": [
    "res_h = np.zeros([nHP, 2])\n",
    "for i in range(nHP):\n",
    "    res_h[i, 0] = h[i, 0].X\n",
    "    res_h[i, 1] = h[i, 1].X\n",
    "res_bh = np.array([bh[i].X for i in I])"
   ]
  },
  {
   "cell_type": "code",
   "execution_count": 15,
   "metadata": {},
   "outputs": [],
   "source": [
    "# tsp_dict\n",
    "tsp_dict = { (i, j): 0 for i in I for j in I }\n",
    "for i in I:\n",
    "    for j in I:\n",
    "        value = model.getVarByName(f\"tx[{i},{j}]\").x\n",
    "        tsp_dict[(i, j)] = value\n",
    "\n",
    "# tans_dict\n",
    "tans_dict = { (i, j): 0 for i in I for j in J }\n",
    "for i in I:\n",
    "    for j in J:\n",
    "        value = model.getVarByName(f\"y[{i},{j}]\").x\n",
    "        tans_dict[(i, j)] = value\n"
   ]
  },
  {
   "cell_type": "code",
   "execution_count": 16,
   "metadata": {},
   "outputs": [
    {
     "data": {
      "image/png": "[encoded data removed]",
      "text/plain": [
       "<Figure size 640x480 with 1 Axes>"
      ]
     },
     "metadata": {},
     "output_type": "display_data"
    }
   ],
   "source": [
    "import matplotlib.pylab as plt\n",
    "res_h2 = res_h[res_bh.astype(bool)]\n",
    "plt.scatter(snp[:, 0], snp[:, 1], marker='s', s=50, label='Sensing node')\n",
    "plt.scatter(res_h2[:, 0], res_h2[:, 1], marker='o', s=50, label='Hover point')\n",
    "\n",
    "route = [key for key,value in tsp_dict.items() if value == 1]\n",
    "for r in route:\n",
    "    plt.plot([res_h[r[0],0], res_h[r[1],0]], [res_h[r[0],1], res_h[r[1],1]], 'k-')\n",
    "line, = plt.plot([], [], 'k-', label=\"UAV trajectory\")\n",
    "\n",
    "tansr = [key for key,value in tans_dict.items() if value == 1]\n",
    "for r in tansr:\n",
    "    plt.plot([res_h[r[0],0], snp[r[1],0]], [res_h[r[0],1], snp[r[1],1]], 'b--')\n",
    "line, = plt.plot([], [], 'b--', label='Transmisstion line')\n",
    "plt.legend()\n",
    "plt.show()"
   ]
  },
  {
   "cell_type": "code",
   "execution_count": 25,
   "metadata": {},
   "outputs": [
    {
     "data": {
      "image/png": "[encoded data removed]",
      "text/plain": [
       "<Figure size 1000x600 with 1 Axes>"
      ]
     },
     "metadata": {},
     "output_type": "display_data"
    }
   ],
   "source": [
    "plt.figure(figsize=(10, 6))\n",
    "\n",
    "plt.plot(data['times'], data['objbnds'], label='Lower Bound')\n",
    "\n",
    "plt.plot(data['times'], data['objbsts'], label='Upper Bound')\n",
    "\n",
    "plt.plot(data['times_mipsol'], data['objbstsols'], label='Best Solution', marker='o')\n",
    "\n",
    "plt.xlabel('Time (seconds)')\n",
    "plt.ylabel('Objective Value')\n",
    "plt.title('Convergence Curve')\n",
    "plt.legend()\n",
    "plt.grid(True)\n",
    "plt.ylim([-1000, 3000])\n",
    "plt.show()"
   ]
  },
  {
   "cell_type": "code",
   "execution_count": 18,
   "metadata": {},
   "outputs": [
    {
     "data": {
      "text/plain": [
       "array([[763.62551275, 470.39354437],\n",
       "       [241.06835411, 716.8629588 ],\n",
       "       [513.28972782, 130.82816837],\n",
       "       [360.24347303, 796.78245605],\n",
       "       [602.29369187, 268.02780052],\n",
       "       [391.38031215, 702.60478569],\n",
       "       [153.80475982, 344.82277138],\n",
       "       [ 90.44777742, 825.95153189],\n",
       "       [537.05231323, 743.31015698],\n",
       "       [810.10710403, 739.07054633],\n",
       "       [595.21839772, 486.05229777],\n",
       "       [639.10315049, 311.82581597]])"
      ]
     },
     "execution_count": 18,
     "metadata": {},
     "output_type": "execute_result"
    }
   ],
   "source": [
    "snp"
   ]
  },
  {
   "cell_type": "code",
   "execution_count": 19,
   "metadata": {},
   "outputs": [
    {
     "name": "stdout",
     "output_type": "stream",
     "text": [
      "[0, 1, 0, 1, 0, 1, 1, 1, 0, 0, 0, 0] 5\n",
      "[0, 0, 0, 0, 0, 0, 0, 0, 1, 1, 1, 0] 3\n",
      "[1, 0, 1, 0, 1, 0, 0, 0, 0, 0, 0, 1] 4\n",
      "12\n"
     ]
    }
   ],
   "source": [
    "\n",
    "count = 0\n",
    "\n",
    "for i in I:\n",
    "    row = [round(tans_dict[(i, j)]) for j in J]\n",
    "    count += sum(row)\n",
    "    print(row, sum(row))\n",
    "print(count)"
   ]
  },
  {
   "cell_type": "code",
   "execution_count": 20,
   "metadata": {},
   "outputs": [
    {
     "name": "stdout",
     "output_type": "stream",
     "text": [
      "[0, 1, 0] 1\n",
      "[0, 0, 1] 1\n",
      "[1, 0, 0] 1\n",
      "3\n"
     ]
    }
   ],
   "source": [
    "\n",
    "count = 0\n",
    "\n",
    "for i in I:\n",
    "    row = [round(tsp_dict[(i, j)]) for j in I]\n",
    "    count += sum(row)\n",
    "    print(row, sum(row))\n",
    "print(count)"
   ]
  },
  {
   "cell_type": "code",
   "execution_count": 21,
   "metadata": {},
   "outputs": [
    {
     "data": {
      "text/plain": [
       "array([[323.35341969, 634.57789323],\n",
       "       [576.1536266 , 505.1170689 ],\n",
       "       [628.1402659 , 326.48437558]])"
      ]
     },
     "execution_count": 21,
     "metadata": {},
     "output_type": "execute_result"
    }
   ],
   "source": [
    "\n",
    "res_h"
   ]
  },
  {
   "cell_type": "code",
   "execution_count": 22,
   "metadata": {},
   "outputs": [
    {
     "data": {
      "text/plain": [
       "array([[  0.        ,  82.28506559,   0.        , 162.20456282,\n",
       "          0.        ,  68.02689247, 289.75512186, 232.90564228,\n",
       "          0.        ,   0.        ,   0.        ,   0.        ],\n",
       "       [  0.        ,   0.        ,   0.        ,   0.        ,\n",
       "          0.        ,   0.        ,   0.        ,   0.        ,\n",
       "        238.19308809, 233.95347744,  19.06477113,   0.        ],\n",
       "       [143.9091688 ,   0.        , 195.65620722,   0.        ,\n",
       "         58.45657506,   0.        ,   0.        ,   0.        ,\n",
       "          0.        ,   0.        ,   0.        ,  14.65855962]])"
      ]
     },
     "execution_count": 22,
     "metadata": {},
     "output_type": "execute_result"
    }
   ],
   "source": [
    "\n",
    "res_d = np.zeros([nHP, nSN])\n",
    "for i in range(nHP):\n",
    "    for j in range(nSN):\n",
    "        res_d[i, j] = d1[i, j].X\n",
    "res_d"
   ]
  },
  {
   "cell_type": "code",
   "execution_count": 23,
   "metadata": {},
   "outputs": [
    {
     "data": {
      "text/plain": [
       "array([[1.00000000e+06, 2.52800207e+02, 3.09000000e+02],\n",
       "       [2.53000000e+02, 1.00000000e+06, 1.78632693e+02],\n",
       "       [3.08093518e+02, 1.79000000e+02, 1.00000000e+06]])"
      ]
     },
     "execution_count": 23,
     "metadata": {},
     "output_type": "execute_result"
    }
   ],
   "source": [
    "\n",
    "res_d = np.zeros([nHP, nHP])\n",
    "for i in range(nHP):\n",
    "    for j in range(nHP):\n",
    "        res_d[i, j] = d2[i, j].X\n",
    "res_d"
   ]
  },
  {
   "cell_type": "code",
   "execution_count": 24,
   "metadata": {},
   "outputs": [
    {
     "data": {
      "text/plain": [
       "array([1., 1., 1.])"
      ]
     },
     "execution_count": 24,
     "metadata": {},
     "output_type": "execute_result"
    }
   ],
   "source": [
    "res_bh"
   ]
  }
 ],
 "metadata": {
  "kernelspec": {
   "display_name": "Python 3.11.4 64-bit",
   "language": "python",
   "name": "python3"
  },
  "language_info": {
   "codemirror_mode": {
    "name": "ipython",
    "version": 3
   },
   "file_extension": ".py",
   "mimetype": "text/x-python",
   "name": "python",
   "nbconvert_exporter": "python",
   "pygments_lexer": "ipython3",
   "version": "3.11.4"
  },
  "orig_nbformat": 4,
  "vscode": {
   "interpreter": {
    "hash": "72b2382ece9768098284d92bbc69d35954e75b60d1e25897d1389c232f4796f0"
   }
  }
 },
 "nbformat": 4,
 "nbformat_minor": 2
}
